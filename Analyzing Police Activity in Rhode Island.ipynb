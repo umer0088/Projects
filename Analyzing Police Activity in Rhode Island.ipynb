{
 "cells": [
  {
   "cell_type": "code",
   "execution_count": 2,
   "metadata": {},
   "outputs": [
    {
     "name": "stderr",
     "output_type": "stream",
     "text": [
      "C:\\Users\\sh_um\\AppData\\Local\\Continuum\\anaconda3\\lib\\site-packages\\IPython\\core\\interactiveshell.py:3058: DtypeWarning: Columns (6,12) have mixed types. Specify dtype option on import or set low_memory=False.\n",
      "  interactivity=interactivity, compiler=compiler, result=result)\n"
     ]
    },
    {
     "data": {
      "text/html": [
       "<div>\n",
       "<style scoped>\n",
       "    .dataframe tbody tr th:only-of-type {\n",
       "        vertical-align: middle;\n",
       "    }\n",
       "\n",
       "    .dataframe tbody tr th {\n",
       "        vertical-align: top;\n",
       "    }\n",
       "\n",
       "    .dataframe thead th {\n",
       "        text-align: right;\n",
       "    }\n",
       "</style>\n",
       "<table border=\"1\" class=\"dataframe\">\n",
       "  <thead>\n",
       "    <tr style=\"text-align: right;\">\n",
       "      <th></th>\n",
       "      <th>raw_row_number</th>\n",
       "      <th>date</th>\n",
       "      <th>time</th>\n",
       "      <th>zone</th>\n",
       "      <th>subject_race</th>\n",
       "      <th>subject_sex</th>\n",
       "      <th>department_id</th>\n",
       "      <th>type</th>\n",
       "      <th>arrest_made</th>\n",
       "      <th>citation_issued</th>\n",
       "      <th>warning_issued</th>\n",
       "      <th>outcome</th>\n",
       "      <th>frisk_performed</th>\n",
       "      <th>search_conducted</th>\n",
       "      <th>reason_for_stop</th>\n",
       "      <th>raw_OperatorRace</th>\n",
       "      <th>raw_OperatorSex</th>\n",
       "      <th>raw_ResultOfStop</th>\n",
       "    </tr>\n",
       "  </thead>\n",
       "  <tbody>\n",
       "    <tr>\n",
       "      <td>0</td>\n",
       "      <td>1</td>\n",
       "      <td>11/22/2005</td>\n",
       "      <td>11:15:00</td>\n",
       "      <td>X3</td>\n",
       "      <td>white</td>\n",
       "      <td>male</td>\n",
       "      <td>200</td>\n",
       "      <td>vehicular</td>\n",
       "      <td>False</td>\n",
       "      <td>True</td>\n",
       "      <td>False</td>\n",
       "      <td>citation</td>\n",
       "      <td>False</td>\n",
       "      <td>False</td>\n",
       "      <td>Speeding</td>\n",
       "      <td>W</td>\n",
       "      <td>M</td>\n",
       "      <td>M</td>\n",
       "    </tr>\n",
       "    <tr>\n",
       "      <td>1</td>\n",
       "      <td>2</td>\n",
       "      <td>10/1/2005</td>\n",
       "      <td>12:20:00</td>\n",
       "      <td>X3</td>\n",
       "      <td>white</td>\n",
       "      <td>male</td>\n",
       "      <td>200</td>\n",
       "      <td>vehicular</td>\n",
       "      <td>False</td>\n",
       "      <td>True</td>\n",
       "      <td>False</td>\n",
       "      <td>citation</td>\n",
       "      <td>False</td>\n",
       "      <td>False</td>\n",
       "      <td>Speeding</td>\n",
       "      <td>W</td>\n",
       "      <td>M</td>\n",
       "      <td>M</td>\n",
       "    </tr>\n",
       "    <tr>\n",
       "      <td>2</td>\n",
       "      <td>3</td>\n",
       "      <td>10/1/2005</td>\n",
       "      <td>12:30:00</td>\n",
       "      <td>X3</td>\n",
       "      <td>white</td>\n",
       "      <td>female</td>\n",
       "      <td>200</td>\n",
       "      <td>vehicular</td>\n",
       "      <td>False</td>\n",
       "      <td>True</td>\n",
       "      <td>False</td>\n",
       "      <td>citation</td>\n",
       "      <td>False</td>\n",
       "      <td>False</td>\n",
       "      <td>Speeding</td>\n",
       "      <td>W</td>\n",
       "      <td>F</td>\n",
       "      <td>M</td>\n",
       "    </tr>\n",
       "    <tr>\n",
       "      <td>3</td>\n",
       "      <td>4</td>\n",
       "      <td>10/1/2005</td>\n",
       "      <td>12:50:00</td>\n",
       "      <td>X3</td>\n",
       "      <td>white</td>\n",
       "      <td>male</td>\n",
       "      <td>200</td>\n",
       "      <td>vehicular</td>\n",
       "      <td>False</td>\n",
       "      <td>True</td>\n",
       "      <td>False</td>\n",
       "      <td>citation</td>\n",
       "      <td>False</td>\n",
       "      <td>False</td>\n",
       "      <td>Speeding</td>\n",
       "      <td>W</td>\n",
       "      <td>M</td>\n",
       "      <td>M</td>\n",
       "    </tr>\n",
       "    <tr>\n",
       "      <td>4</td>\n",
       "      <td>5</td>\n",
       "      <td>10/1/2005</td>\n",
       "      <td>13:10:00</td>\n",
       "      <td>X3</td>\n",
       "      <td>white</td>\n",
       "      <td>female</td>\n",
       "      <td>200</td>\n",
       "      <td>vehicular</td>\n",
       "      <td>False</td>\n",
       "      <td>True</td>\n",
       "      <td>False</td>\n",
       "      <td>citation</td>\n",
       "      <td>False</td>\n",
       "      <td>False</td>\n",
       "      <td>Speeding</td>\n",
       "      <td>W</td>\n",
       "      <td>F</td>\n",
       "      <td>M</td>\n",
       "    </tr>\n",
       "    <tr>\n",
       "      <td>5</td>\n",
       "      <td>6</td>\n",
       "      <td>10/1/2005</td>\n",
       "      <td>15:50:00</td>\n",
       "      <td>X3</td>\n",
       "      <td>white</td>\n",
       "      <td>male</td>\n",
       "      <td>200</td>\n",
       "      <td>vehicular</td>\n",
       "      <td>False</td>\n",
       "      <td>True</td>\n",
       "      <td>False</td>\n",
       "      <td>citation</td>\n",
       "      <td>False</td>\n",
       "      <td>False</td>\n",
       "      <td>Other Traffic Violation</td>\n",
       "      <td>W</td>\n",
       "      <td>M</td>\n",
       "      <td>M</td>\n",
       "    </tr>\n",
       "    <tr>\n",
       "      <td>6</td>\n",
       "      <td>7</td>\n",
       "      <td>9/11/2005</td>\n",
       "      <td>11:45:00</td>\n",
       "      <td>X3</td>\n",
       "      <td>white</td>\n",
       "      <td>male</td>\n",
       "      <td>200</td>\n",
       "      <td>vehicular</td>\n",
       "      <td>False</td>\n",
       "      <td>True</td>\n",
       "      <td>False</td>\n",
       "      <td>citation</td>\n",
       "      <td>False</td>\n",
       "      <td>False</td>\n",
       "      <td>Speeding</td>\n",
       "      <td>W</td>\n",
       "      <td>M</td>\n",
       "      <td>M</td>\n",
       "    </tr>\n",
       "    <tr>\n",
       "      <td>7</td>\n",
       "      <td>8</td>\n",
       "      <td>9/11/2005</td>\n",
       "      <td>11:45:00</td>\n",
       "      <td>X3</td>\n",
       "      <td>white</td>\n",
       "      <td>female</td>\n",
       "      <td>200</td>\n",
       "      <td>vehicular</td>\n",
       "      <td>False</td>\n",
       "      <td>True</td>\n",
       "      <td>False</td>\n",
       "      <td>citation</td>\n",
       "      <td>False</td>\n",
       "      <td>False</td>\n",
       "      <td>Speeding</td>\n",
       "      <td>W</td>\n",
       "      <td>F</td>\n",
       "      <td>M</td>\n",
       "    </tr>\n",
       "    <tr>\n",
       "      <td>8</td>\n",
       "      <td>9</td>\n",
       "      <td>10/4/2005</td>\n",
       "      <td>11:55:00</td>\n",
       "      <td>X3</td>\n",
       "      <td>hispanic</td>\n",
       "      <td>male</td>\n",
       "      <td>200</td>\n",
       "      <td>vehicular</td>\n",
       "      <td>False</td>\n",
       "      <td>True</td>\n",
       "      <td>False</td>\n",
       "      <td>citation</td>\n",
       "      <td>False</td>\n",
       "      <td>False</td>\n",
       "      <td>Speeding</td>\n",
       "      <td>H</td>\n",
       "      <td>M</td>\n",
       "      <td>M</td>\n",
       "    </tr>\n",
       "    <tr>\n",
       "      <td>9</td>\n",
       "      <td>10</td>\n",
       "      <td>10/4/2005</td>\n",
       "      <td>11:55:00</td>\n",
       "      <td>X3</td>\n",
       "      <td>white</td>\n",
       "      <td>male</td>\n",
       "      <td>200</td>\n",
       "      <td>vehicular</td>\n",
       "      <td>False</td>\n",
       "      <td>True</td>\n",
       "      <td>False</td>\n",
       "      <td>citation</td>\n",
       "      <td>False</td>\n",
       "      <td>False</td>\n",
       "      <td>Speeding</td>\n",
       "      <td>W</td>\n",
       "      <td>M</td>\n",
       "      <td>M</td>\n",
       "    </tr>\n",
       "  </tbody>\n",
       "</table>\n",
       "</div>"
      ],
      "text/plain": [
       "   raw_row_number        date      time zone subject_race subject_sex  \\\n",
       "0               1  11/22/2005  11:15:00   X3        white        male   \n",
       "1               2   10/1/2005  12:20:00   X3        white        male   \n",
       "2               3   10/1/2005  12:30:00   X3        white      female   \n",
       "3               4   10/1/2005  12:50:00   X3        white        male   \n",
       "4               5   10/1/2005  13:10:00   X3        white      female   \n",
       "5               6   10/1/2005  15:50:00   X3        white        male   \n",
       "6               7   9/11/2005  11:45:00   X3        white        male   \n",
       "7               8   9/11/2005  11:45:00   X3        white      female   \n",
       "8               9   10/4/2005  11:55:00   X3     hispanic        male   \n",
       "9              10   10/4/2005  11:55:00   X3        white        male   \n",
       "\n",
       "  department_id       type arrest_made citation_issued warning_issued  \\\n",
       "0           200  vehicular       False            True          False   \n",
       "1           200  vehicular       False            True          False   \n",
       "2           200  vehicular       False            True          False   \n",
       "3           200  vehicular       False            True          False   \n",
       "4           200  vehicular       False            True          False   \n",
       "5           200  vehicular       False            True          False   \n",
       "6           200  vehicular       False            True          False   \n",
       "7           200  vehicular       False            True          False   \n",
       "8           200  vehicular       False            True          False   \n",
       "9           200  vehicular       False            True          False   \n",
       "\n",
       "    outcome frisk_performed  search_conducted          reason_for_stop  \\\n",
       "0  citation           False             False                 Speeding   \n",
       "1  citation           False             False                 Speeding   \n",
       "2  citation           False             False                 Speeding   \n",
       "3  citation           False             False                 Speeding   \n",
       "4  citation           False             False                 Speeding   \n",
       "5  citation           False             False  Other Traffic Violation   \n",
       "6  citation           False             False                 Speeding   \n",
       "7  citation           False             False                 Speeding   \n",
       "8  citation           False             False                 Speeding   \n",
       "9  citation           False             False                 Speeding   \n",
       "\n",
       "  raw_OperatorRace raw_OperatorSex raw_ResultOfStop  \n",
       "0                W               M                M  \n",
       "1                W               M                M  \n",
       "2                W               F                M  \n",
       "3                W               M                M  \n",
       "4                W               F                M  \n",
       "5                W               M                M  \n",
       "6                W               M                M  \n",
       "7                W               F                M  \n",
       "8                H               M                M  \n",
       "9                W               M                M  "
      ]
     },
     "execution_count": 2,
     "metadata": {},
     "output_type": "execute_result"
    }
   ],
   "source": [
    "# Importing libraries\n",
    "\n",
    "import pandas as pd\n",
    "import numpy as np\n",
    "import matplotlib.pyplot as plt\n",
    "import seaborn as sns\n",
    "\n",
    "# Read 'police Data.csv' into a DataFrame named ri\n",
    "ri = pd.read_csv('C:/Users/sh_um/OneDrive/Desktop/DataCamp/Practice Data Set/RI Police Data.csv')\n",
    "\n",
    "# Examine the head of the DataFrame\n",
    "ri.head(10)"
   ]
  },
  {
   "cell_type": "code",
   "execution_count": 3,
   "metadata": {},
   "outputs": [
    {
     "name": "stdout",
     "output_type": "stream",
     "text": [
      "<class 'pandas.core.frame.DataFrame'>\n",
      "RangeIndex: 509681 entries, 0 to 509680\n",
      "Data columns (total 18 columns):\n",
      "raw_row_number      509681 non-null int64\n",
      "date                509671 non-null object\n",
      "time                509671 non-null object\n",
      "zone                509671 non-null object\n",
      "subject_race        480608 non-null object\n",
      "subject_sex         480584 non-null object\n",
      "department_id       509671 non-null object\n",
      "type                509681 non-null object\n",
      "arrest_made         480608 non-null object\n",
      "citation_issued     480608 non-null object\n",
      "warning_issued      480608 non-null object\n",
      "outcome             473840 non-null object\n",
      "frisk_performed     509671 non-null object\n",
      "search_conducted    509681 non-null bool\n",
      "reason_for_stop     480608 non-null object\n",
      "raw_OperatorRace    480608 non-null object\n",
      "raw_OperatorSex     480608 non-null object\n",
      "raw_ResultOfStop    480608 non-null object\n",
      "dtypes: bool(1), int64(1), object(16)\n",
      "memory usage: 66.6+ MB\n"
     ]
    }
   ],
   "source": [
    "# Examine the DataFrame\n",
    "\n",
    "ri.info()"
   ]
  },
  {
   "cell_type": "code",
   "execution_count": 4,
   "metadata": {},
   "outputs": [
    {
     "data": {
      "text/plain": [
       "(509681, 18)"
      ]
     },
     "execution_count": 4,
     "metadata": {},
     "output_type": "execute_result"
    }
   ],
   "source": [
    "# Examine the DataFrame\n",
    "\n",
    "ri.shape"
   ]
  },
  {
   "cell_type": "code",
   "execution_count": 5,
   "metadata": {},
   "outputs": [
    {
     "data": {
      "text/plain": [
       "raw_row_number          0\n",
       "date                   10\n",
       "time                   10\n",
       "zone                   10\n",
       "subject_race        29073\n",
       "subject_sex         29097\n",
       "department_id          10\n",
       "type                    0\n",
       "arrest_made         29073\n",
       "citation_issued     29073\n",
       "warning_issued      29073\n",
       "outcome             35841\n",
       "frisk_performed        10\n",
       "search_conducted        0\n",
       "reason_for_stop     29073\n",
       "raw_OperatorRace    29073\n",
       "raw_OperatorSex     29073\n",
       "raw_ResultOfStop    29073\n",
       "dtype: int64"
      ]
     },
     "execution_count": 5,
     "metadata": {},
     "output_type": "execute_result"
    }
   ],
   "source": [
    "# Count the number of missing values in each column\n",
    "\n",
    "ri.isnull().sum()"
   ]
  },
  {
   "cell_type": "code",
   "execution_count": 6,
   "metadata": {},
   "outputs": [],
   "source": [
    "# Drop the 'raw_row_number' column\n",
    "\n",
    "ri.drop(['raw_row_number'], axis='columns', inplace=True)"
   ]
  },
  {
   "cell_type": "code",
   "execution_count": 7,
   "metadata": {},
   "outputs": [
    {
     "data": {
      "text/html": [
       "<div>\n",
       "<style scoped>\n",
       "    .dataframe tbody tr th:only-of-type {\n",
       "        vertical-align: middle;\n",
       "    }\n",
       "\n",
       "    .dataframe tbody tr th {\n",
       "        vertical-align: top;\n",
       "    }\n",
       "\n",
       "    .dataframe thead th {\n",
       "        text-align: right;\n",
       "    }\n",
       "</style>\n",
       "<table border=\"1\" class=\"dataframe\">\n",
       "  <thead>\n",
       "    <tr style=\"text-align: right;\">\n",
       "      <th></th>\n",
       "      <th>date</th>\n",
       "      <th>time</th>\n",
       "      <th>zone</th>\n",
       "      <th>subject_race</th>\n",
       "      <th>subject_sex</th>\n",
       "      <th>department_id</th>\n",
       "      <th>type</th>\n",
       "      <th>arrest_made</th>\n",
       "      <th>citation_issued</th>\n",
       "      <th>warning_issued</th>\n",
       "      <th>outcome</th>\n",
       "      <th>frisk_performed</th>\n",
       "      <th>search_conducted</th>\n",
       "      <th>reason_for_stop</th>\n",
       "      <th>raw_OperatorRace</th>\n",
       "      <th>raw_OperatorSex</th>\n",
       "      <th>raw_ResultOfStop</th>\n",
       "    </tr>\n",
       "  </thead>\n",
       "  <tbody>\n",
       "    <tr>\n",
       "      <td>0</td>\n",
       "      <td>11/22/2005</td>\n",
       "      <td>11:15:00</td>\n",
       "      <td>X3</td>\n",
       "      <td>white</td>\n",
       "      <td>male</td>\n",
       "      <td>200</td>\n",
       "      <td>vehicular</td>\n",
       "      <td>False</td>\n",
       "      <td>True</td>\n",
       "      <td>False</td>\n",
       "      <td>citation</td>\n",
       "      <td>False</td>\n",
       "      <td>False</td>\n",
       "      <td>Speeding</td>\n",
       "      <td>W</td>\n",
       "      <td>M</td>\n",
       "      <td>M</td>\n",
       "    </tr>\n",
       "    <tr>\n",
       "      <td>1</td>\n",
       "      <td>10/1/2005</td>\n",
       "      <td>12:20:00</td>\n",
       "      <td>X3</td>\n",
       "      <td>white</td>\n",
       "      <td>male</td>\n",
       "      <td>200</td>\n",
       "      <td>vehicular</td>\n",
       "      <td>False</td>\n",
       "      <td>True</td>\n",
       "      <td>False</td>\n",
       "      <td>citation</td>\n",
       "      <td>False</td>\n",
       "      <td>False</td>\n",
       "      <td>Speeding</td>\n",
       "      <td>W</td>\n",
       "      <td>M</td>\n",
       "      <td>M</td>\n",
       "    </tr>\n",
       "    <tr>\n",
       "      <td>2</td>\n",
       "      <td>10/1/2005</td>\n",
       "      <td>12:30:00</td>\n",
       "      <td>X3</td>\n",
       "      <td>white</td>\n",
       "      <td>female</td>\n",
       "      <td>200</td>\n",
       "      <td>vehicular</td>\n",
       "      <td>False</td>\n",
       "      <td>True</td>\n",
       "      <td>False</td>\n",
       "      <td>citation</td>\n",
       "      <td>False</td>\n",
       "      <td>False</td>\n",
       "      <td>Speeding</td>\n",
       "      <td>W</td>\n",
       "      <td>F</td>\n",
       "      <td>M</td>\n",
       "    </tr>\n",
       "    <tr>\n",
       "      <td>3</td>\n",
       "      <td>10/1/2005</td>\n",
       "      <td>12:50:00</td>\n",
       "      <td>X3</td>\n",
       "      <td>white</td>\n",
       "      <td>male</td>\n",
       "      <td>200</td>\n",
       "      <td>vehicular</td>\n",
       "      <td>False</td>\n",
       "      <td>True</td>\n",
       "      <td>False</td>\n",
       "      <td>citation</td>\n",
       "      <td>False</td>\n",
       "      <td>False</td>\n",
       "      <td>Speeding</td>\n",
       "      <td>W</td>\n",
       "      <td>M</td>\n",
       "      <td>M</td>\n",
       "    </tr>\n",
       "    <tr>\n",
       "      <td>4</td>\n",
       "      <td>10/1/2005</td>\n",
       "      <td>13:10:00</td>\n",
       "      <td>X3</td>\n",
       "      <td>white</td>\n",
       "      <td>female</td>\n",
       "      <td>200</td>\n",
       "      <td>vehicular</td>\n",
       "      <td>False</td>\n",
       "      <td>True</td>\n",
       "      <td>False</td>\n",
       "      <td>citation</td>\n",
       "      <td>False</td>\n",
       "      <td>False</td>\n",
       "      <td>Speeding</td>\n",
       "      <td>W</td>\n",
       "      <td>F</td>\n",
       "      <td>M</td>\n",
       "    </tr>\n",
       "  </tbody>\n",
       "</table>\n",
       "</div>"
      ],
      "text/plain": [
       "         date      time zone subject_race subject_sex department_id  \\\n",
       "0  11/22/2005  11:15:00   X3        white        male           200   \n",
       "1   10/1/2005  12:20:00   X3        white        male           200   \n",
       "2   10/1/2005  12:30:00   X3        white      female           200   \n",
       "3   10/1/2005  12:50:00   X3        white        male           200   \n",
       "4   10/1/2005  13:10:00   X3        white      female           200   \n",
       "\n",
       "        type arrest_made citation_issued warning_issued   outcome  \\\n",
       "0  vehicular       False            True          False  citation   \n",
       "1  vehicular       False            True          False  citation   \n",
       "2  vehicular       False            True          False  citation   \n",
       "3  vehicular       False            True          False  citation   \n",
       "4  vehicular       False            True          False  citation   \n",
       "\n",
       "  frisk_performed  search_conducted reason_for_stop raw_OperatorRace  \\\n",
       "0           False             False        Speeding                W   \n",
       "1           False             False        Speeding                W   \n",
       "2           False             False        Speeding                W   \n",
       "3           False             False        Speeding                W   \n",
       "4           False             False        Speeding                W   \n",
       "\n",
       "  raw_OperatorSex raw_ResultOfStop  \n",
       "0               M                M  \n",
       "1               M                M  \n",
       "2               F                M  \n",
       "3               M                M  \n",
       "4               F                M  "
      ]
     },
     "execution_count": 7,
     "metadata": {},
     "output_type": "execute_result"
    }
   ],
   "source": [
    "# Examinig the head\n",
    "\n",
    "ri.head()"
   ]
  },
  {
   "cell_type": "code",
   "execution_count": 8,
   "metadata": {},
   "outputs": [
    {
     "data": {
      "text/plain": [
       "date                   0\n",
       "time                   0\n",
       "zone                   0\n",
       "subject_race           0\n",
       "subject_sex            0\n",
       "department_id          0\n",
       "type                   0\n",
       "arrest_made            0\n",
       "citation_issued        0\n",
       "warning_issued         0\n",
       "outcome             6763\n",
       "frisk_performed        0\n",
       "search_conducted       0\n",
       "reason_for_stop        0\n",
       "raw_OperatorRace       0\n",
       "raw_OperatorSex        0\n",
       "raw_ResultOfStop       0\n",
       "dtype: int64"
      ]
     },
     "execution_count": 8,
     "metadata": {},
     "output_type": "execute_result"
    }
   ],
   "source": [
    "# Drop all rows that are missing 'subject_sex'\n",
    "\n",
    "ri.dropna(subset = ['subject_sex'], inplace = True)\n",
    "ri.isnull().sum()"
   ]
  },
  {
   "cell_type": "code",
   "execution_count": 9,
   "metadata": {},
   "outputs": [
    {
     "data": {
      "text/plain": [
       "date                object\n",
       "time                object\n",
       "zone                object\n",
       "subject_race        object\n",
       "subject_sex         object\n",
       "department_id       object\n",
       "type                object\n",
       "arrest_made         object\n",
       "citation_issued     object\n",
       "warning_issued      object\n",
       "outcome             object\n",
       "frisk_performed     object\n",
       "search_conducted      bool\n",
       "reason_for_stop     object\n",
       "raw_OperatorRace    object\n",
       "raw_OperatorSex     object\n",
       "raw_ResultOfStop    object\n",
       "dtype: object"
      ]
     },
     "execution_count": 9,
     "metadata": {},
     "output_type": "execute_result"
    }
   ],
   "source": [
    "#Examining the data types\n",
    "\n",
    "ri.dtypes"
   ]
  },
  {
   "cell_type": "code",
   "execution_count": 10,
   "metadata": {},
   "outputs": [
    {
     "data": {
      "text/plain": [
       "date                object\n",
       "time                object\n",
       "zone                object\n",
       "subject_race        object\n",
       "subject_sex         object\n",
       "department_id       object\n",
       "type                object\n",
       "arrest_made           bool\n",
       "citation_issued       bool\n",
       "warning_issued        bool\n",
       "outcome             object\n",
       "frisk_performed       bool\n",
       "search_conducted      bool\n",
       "reason_for_stop     object\n",
       "raw_OperatorRace    object\n",
       "raw_OperatorSex     object\n",
       "raw_ResultOfStop    object\n",
       "dtype: object"
      ]
     },
     "execution_count": 10,
     "metadata": {},
     "output_type": "execute_result"
    }
   ],
   "source": [
    "# Converting the columns datatype\n",
    "\n",
    "ri[['arrest_made' ,'citation_issued' ,'warning_issued','frisk_performed','search_conducted']] = ri[['arrest_made','citation_issued','warning_issued','frisk_performed','search_conducted']].astype('bool')\n",
    "ri.dtypes"
   ]
  },
  {
   "cell_type": "code",
   "execution_count": 11,
   "metadata": {},
   "outputs": [
    {
     "data": {
      "text/plain": [
       "date                        object\n",
       "time                        object\n",
       "zone                        object\n",
       "subject_race                object\n",
       "subject_sex                 object\n",
       "department_id               object\n",
       "type                        object\n",
       "arrest_made                   bool\n",
       "citation_issued               bool\n",
       "warning_issued                bool\n",
       "outcome                     object\n",
       "frisk_performed               bool\n",
       "search_conducted              bool\n",
       "reason_for_stop             object\n",
       "raw_OperatorRace            object\n",
       "raw_OperatorSex             object\n",
       "raw_ResultOfStop            object\n",
       "date_time           datetime64[ns]\n",
       "dtype: object"
      ]
     },
     "execution_count": 11,
     "metadata": {},
     "output_type": "execute_result"
    }
   ],
   "source": [
    "# Concatenate 'date' and 'time' (separated by a space)\n",
    "\n",
    "combined = ri.date.str.cat(ri.time, sep = ' ')\n",
    "\n",
    "# Convert 'combined' to datetime format\n",
    "\n",
    "ri['date_time'] = pd.to_datetime(combined)\n",
    "\n",
    "ri.dtypes"
   ]
  },
  {
   "cell_type": "code",
   "execution_count": 12,
   "metadata": {},
   "outputs": [
    {
     "data": {
      "text/plain": [
       "DatetimeIndex(['2005-11-22 11:15:00', '2005-10-01 12:20:00',\n",
       "               '2005-10-01 12:30:00', '2005-10-01 12:50:00',\n",
       "               '2005-10-01 13:10:00', '2005-10-01 15:50:00',\n",
       "               '2005-09-11 11:45:00', '2005-09-11 11:45:00',\n",
       "               '2005-10-04 11:55:00', '2005-10-04 11:55:00',\n",
       "               ...\n",
       "               '2015-12-29 13:28:00', '2015-12-27 12:45:00',\n",
       "               '2015-12-27 13:43:00', '2015-12-28 02:29:00',\n",
       "               '2015-12-30 11:42:00', '2015-08-16 13:37:00',\n",
       "               '2015-08-04 10:40:00', '2015-12-20 11:17:00',\n",
       "               '2015-11-09 23:35:00', '2015-10-30 11:09:00'],\n",
       "              dtype='datetime64[ns]', name='date_time', length=480584, freq=None)"
      ]
     },
     "execution_count": 12,
     "metadata": {},
     "output_type": "execute_result"
    }
   ],
   "source": [
    "# Set 'date_time' as the index\n",
    "\n",
    "ri.set_index('date_time', inplace =True)\n",
    "ri.index"
   ]
  },
  {
   "cell_type": "code",
   "execution_count": 13,
   "metadata": {},
   "outputs": [
    {
     "data": {
      "text/html": [
       "<div>\n",
       "<style scoped>\n",
       "    .dataframe tbody tr th:only-of-type {\n",
       "        vertical-align: middle;\n",
       "    }\n",
       "\n",
       "    .dataframe tbody tr th {\n",
       "        vertical-align: top;\n",
       "    }\n",
       "\n",
       "    .dataframe thead th {\n",
       "        text-align: right;\n",
       "    }\n",
       "</style>\n",
       "<table border=\"1\" class=\"dataframe\">\n",
       "  <thead>\n",
       "    <tr style=\"text-align: right;\">\n",
       "      <th></th>\n",
       "      <th>date</th>\n",
       "      <th>time</th>\n",
       "      <th>zone</th>\n",
       "      <th>subject_race</th>\n",
       "      <th>subject_sex</th>\n",
       "      <th>department_id</th>\n",
       "      <th>type</th>\n",
       "      <th>arrest_made</th>\n",
       "      <th>citation_issued</th>\n",
       "      <th>warning_issued</th>\n",
       "      <th>outcome</th>\n",
       "      <th>frisk_performed</th>\n",
       "      <th>search_conducted</th>\n",
       "      <th>reason_for_stop</th>\n",
       "      <th>raw_OperatorRace</th>\n",
       "      <th>raw_OperatorSex</th>\n",
       "      <th>raw_ResultOfStop</th>\n",
       "    </tr>\n",
       "    <tr>\n",
       "      <th>date_time</th>\n",
       "      <th></th>\n",
       "      <th></th>\n",
       "      <th></th>\n",
       "      <th></th>\n",
       "      <th></th>\n",
       "      <th></th>\n",
       "      <th></th>\n",
       "      <th></th>\n",
       "      <th></th>\n",
       "      <th></th>\n",
       "      <th></th>\n",
       "      <th></th>\n",
       "      <th></th>\n",
       "      <th></th>\n",
       "      <th></th>\n",
       "      <th></th>\n",
       "      <th></th>\n",
       "    </tr>\n",
       "  </thead>\n",
       "  <tbody>\n",
       "    <tr>\n",
       "      <td>2005-11-22 11:15:00</td>\n",
       "      <td>11/22/2005</td>\n",
       "      <td>11:15:00</td>\n",
       "      <td>X3</td>\n",
       "      <td>white</td>\n",
       "      <td>male</td>\n",
       "      <td>200</td>\n",
       "      <td>vehicular</td>\n",
       "      <td>False</td>\n",
       "      <td>True</td>\n",
       "      <td>False</td>\n",
       "      <td>citation</td>\n",
       "      <td>False</td>\n",
       "      <td>False</td>\n",
       "      <td>Speeding</td>\n",
       "      <td>W</td>\n",
       "      <td>M</td>\n",
       "      <td>M</td>\n",
       "    </tr>\n",
       "    <tr>\n",
       "      <td>2005-10-01 12:20:00</td>\n",
       "      <td>10/1/2005</td>\n",
       "      <td>12:20:00</td>\n",
       "      <td>X3</td>\n",
       "      <td>white</td>\n",
       "      <td>male</td>\n",
       "      <td>200</td>\n",
       "      <td>vehicular</td>\n",
       "      <td>False</td>\n",
       "      <td>True</td>\n",
       "      <td>False</td>\n",
       "      <td>citation</td>\n",
       "      <td>False</td>\n",
       "      <td>False</td>\n",
       "      <td>Speeding</td>\n",
       "      <td>W</td>\n",
       "      <td>M</td>\n",
       "      <td>M</td>\n",
       "    </tr>\n",
       "  </tbody>\n",
       "</table>\n",
       "</div>"
      ],
      "text/plain": [
       "                           date      time zone subject_race subject_sex  \\\n",
       "date_time                                                                 \n",
       "2005-11-22 11:15:00  11/22/2005  11:15:00   X3        white        male   \n",
       "2005-10-01 12:20:00   10/1/2005  12:20:00   X3        white        male   \n",
       "\n",
       "                    department_id       type  arrest_made  citation_issued  \\\n",
       "date_time                                                                    \n",
       "2005-11-22 11:15:00           200  vehicular        False             True   \n",
       "2005-10-01 12:20:00           200  vehicular        False             True   \n",
       "\n",
       "                     warning_issued   outcome  frisk_performed  \\\n",
       "date_time                                                        \n",
       "2005-11-22 11:15:00           False  citation            False   \n",
       "2005-10-01 12:20:00           False  citation            False   \n",
       "\n",
       "                     search_conducted reason_for_stop raw_OperatorRace  \\\n",
       "date_time                                                                \n",
       "2005-11-22 11:15:00             False        Speeding                W   \n",
       "2005-10-01 12:20:00             False        Speeding                W   \n",
       "\n",
       "                    raw_OperatorSex raw_ResultOfStop  \n",
       "date_time                                             \n",
       "2005-11-22 11:15:00               M                M  \n",
       "2005-10-01 12:20:00               M                M  "
      ]
     },
     "execution_count": 13,
     "metadata": {},
     "output_type": "execute_result"
    }
   ],
   "source": [
    "#Examinig the head after resettign index\n",
    "\n",
    "ri.head(2)"
   ]
  },
  {
   "cell_type": "code",
   "execution_count": 45,
   "metadata": {},
   "outputs": [
    {
     "name": "stdout",
     "output_type": "stream",
     "text": [
      "Speeding                          268736\n",
      "Other Traffic Violation            90228\n",
      "Equipment/Inspection Violation     61250\n",
      "Registration Violation             19830\n",
      "Seatbelt Violation                 16324\n",
      "Name: reason_for_stop, dtype: int64\n"
     ]
    },
    {
     "data": {
      "image/png": "[encoded data removed]",
      "text/plain": [
       "<Figure size 432x288 with 1 Axes>"
      ]
     },
     "metadata": {
      "needs_background": "light"
     },
     "output_type": "display_data"
    }
   ],
   "source": [
    "# Count of top five violations\n",
    "\n",
    "num_violation = ri.reason_for_stop.value_counts().head(5)\n",
    "print(num_violation)\n",
    "\n",
    "#Set descriptions:\n",
    "plt.title(\"Count of Top Five Violation\")\n",
    "plt.ylabel('Number of Violations')\n",
    "plt.xlabel('Violations Types')\n",
    "\n",
    "#Set tick colors:\n",
    "ax = plt.gca()\n",
    "ax.tick_params(axis='x', colors='blue')\n",
    "ax.tick_params(axis='y', colors='red')\n",
    "\n",
    "#Plot the data:\n",
    "my_colors = ['red','green','blue', 'yellow', 'purple']  #red, green, blue, black, etc.\n",
    "\n",
    "num_violation.plot( kind='bar',color = my_colors)\n",
    "plt.show()"
   ]
  },
  {
   "cell_type": "code",
   "execution_count": 58,
   "metadata": {},
   "outputs": [
    {
     "data": {
      "text/plain": [
       "Speeding                            268736\n",
       "Other Traffic Violation              90228\n",
       "Equipment/Inspection Violation       61250\n",
       "Registration Violation               19830\n",
       "Seatbelt Violation                   16324\n",
       "Special Detail/Directed Patrol       13642\n",
       "Call for Service                      7605\n",
       "Violation of City/Town Ordinance      1036\n",
       "Motorist Assist/Courtesy               989\n",
       "APB                                    485\n",
       "Suspicious Person                      342\n",
       "Warrant                                117\n",
       "Name: reason_for_stop, dtype: int64"
      ]
     },
     "execution_count": 58,
     "metadata": {},
     "output_type": "execute_result"
    }
   ],
   "source": [
    "# Compute the violations by female drivers\n",
    "\n",
    "female = ri[ri['subject_sex'] == 'female']\n",
    "fem_violation = ri.reason_for_stop.value_counts()\n"
   ]
  },
  {
   "cell_type": "code",
   "execution_count": 65,
   "metadata": {},
   "outputs": [],
   "source": [
    "# Compute the violations by female drivers\n",
    "\n",
    "male = ri[ri['subject_sex'] == 'male']\n",
    "ma_violation = ri.reason_for_stop.value_counts()\n"
   ]
  },
  {
   "cell_type": "code",
   "execution_count": 77,
   "metadata": {},
   "outputs": [
    {
     "name": "stdout",
     "output_type": "stream",
     "text": [
      "citation    82168\n",
      "warning      3362\n",
      "arrest        545\n",
      "Name: outcome, dtype: int64\n"
     ]
    },
    {
     "data": {
      "image/png": "[encoded data removed]",
      "text/plain": [
       "<Figure size 432x288 with 1 Axes>"
      ]
     },
     "metadata": {},
     "output_type": "display_data"
    }
   ],
   "source": [
    "# Create a DataFrame of female drivers stopped for speeding\n",
    "\n",
    "female_and_speeding = ri[(ri.subject_sex == 'female') & (ri.reason_for_stop == 'Speeding')]\n",
    "\n",
    "# Compute the stop outcomes for female drivers\n",
    "\n",
    "fem_speeding = female_and_speeding.outcome.value_counts()\n",
    "print(fem_speeding)\n",
    "\n",
    "# Add chart title\n",
    "plt.title(\"Violation Outcome for Females\")\n",
    "\n",
    "#Add colors\n",
    "colors = ['gold', 'lightskyblue', 'lightcoral']\n",
    "# plot\n",
    "patches, texts = plt.pie(fem_speeding, colors=colors, shadow=True, startangle=90)\n",
    "plt.legend(patches, labels, loc=\"best\")\n",
    "\n",
    "plt.axis('equal')\n",
    "plt.tight_layout()\n",
    "plt.show()\n"
   ]
  },
  {
   "cell_type": "code",
   "execution_count": 76,
   "metadata": {},
   "outputs": [
    {
     "data": {
      "image/png": "[encoded data removed]",
      "text/plain": [
       "<Figure size 432x288 with 1 Axes>"
      ]
     },
     "metadata": {},
     "output_type": "display_data"
    }
   ],
   "source": [
    "# Create a DataFrame of male drivers stopped for speeding\n",
    "male_and_speeding = ri[(ri.subject_sex == 'male') & (ri.reason_for_stop == 'Speeding')]\n",
    "\n",
    "# Compute the stop outcomes for male drivers\n",
    "ma_speeding = male_and_speeding.outcome.value_counts()\n",
    "print(ma_speeding)\n",
    "\n",
    "# Add chart title\n",
    "plt.title(\"Violation Outcome for Females\")\n",
    "#Add color\n",
    "colors = ['yellowgreen', 'lightcoral', 'lightskyblue']\n",
    "\n",
    "#explodes\n",
    "explode = (0.1, 0, 0,)  # explode 1st slice\n",
    "\n",
    "#Add labels\n",
    "labels = ['citation','warning','arrest']\n",
    "\n",
    "# Plot\n",
    "plt.pie(ma_speeding, explode=explode, labels=labels, colors=colors,\n",
    "autopct='%1.1f%%', shadow=True, startangle=140)\n",
    "\n",
    "plt.axis('equal')\n",
    "plt.show()"
   ]
  },
  {
   "cell_type": "code",
   "execution_count": 62,
   "metadata": {},
   "outputs": [
    {
     "data": {
      "text/plain": [
       "0.018751239152648355"
      ]
     },
     "execution_count": 62,
     "metadata": {},
     "output_type": "execute_result"
    }
   ],
   "source": [
    "# Calculate the search rate for female drivers\n",
    "\n",
    "ri[ri['subject_sex'] == 'female'].search_conducted.mean()"
   ]
  },
  {
   "cell_type": "code",
   "execution_count": 70,
   "metadata": {},
   "outputs": [
    {
     "name": "stdout",
     "output_type": "stream",
     "text": [
      "subject_sex\n",
      "female    0.062636\n",
      "male      0.059025\n",
      "Name: warning_issued, dtype: float64\n"
     ]
    }
   ],
   "source": [
    "# Calculate the warning_issued rate for both groups simultaneously\n",
    "\n",
    "warning_isu = ri.groupby('subject_sex').warning_issued.mean()\n",
    "print(warning_isu)"
   ]
  },
  {
   "cell_type": "code",
   "execution_count": 84,
   "metadata": {},
   "outputs": [
    {
     "name": "stdout",
     "output_type": "stream",
     "text": [
      "reason_for_stop                   subject_sex\n",
      "APB                               female         0.165138\n",
      "                                  male           0.255319\n",
      "Call for Service                  female         0.042230\n",
      "                                  male           0.092419\n",
      "Equipment/Inspection Violation    female         0.040245\n",
      "                                  male           0.070916\n",
      "Motorist Assist/Courtesy          female         0.033133\n",
      "                                  male           0.089802\n",
      "Other Traffic Violation           female         0.038021\n",
      "                                  male           0.059156\n",
      "Registration Violation            female         0.054700\n",
      "                                  male           0.103589\n",
      "Seatbelt Violation                female         0.017746\n",
      "                                  male           0.031705\n",
      "Special Detail/Directed Patrol    female         0.018045\n",
      "                                  male           0.010249\n",
      "Speeding                          female         0.007738\n",
      "                                  male           0.026630\n",
      "Suspicious Person                 female         0.216216\n",
      "                                  male           0.305970\n",
      "Violation of City/Town Ordinance  female         0.060185\n",
      "                                  male           0.073171\n",
      "Warrant                           female         0.148148\n",
      "                                  male           0.311111\n",
      "Name: search_conducted, dtype: float64\n"
     ]
    }
   ],
   "source": [
    "# Calculate the search rate for each combination of gender and violation\n",
    "\n",
    "search_rate = ri.groupby(['reason_for_stop','subject_sex']).search_conducted.mean()\n",
    "print(search_rate)\n",
    "\n"
   ]
  },
  {
   "cell_type": "code",
   "execution_count": 79,
   "metadata": {},
   "outputs": [
    {
     "data": {
      "image/png": "[encoded data removed]",
      "text/plain": [
       "<Figure size 432x288 with 1 Axes>"
      ]
     },
     "metadata": {
      "needs_background": "light"
     },
     "output_type": "display_data"
    }
   ],
   "source": [
    "# Create a line plot of 'hourly_arrest_rate'\n",
    "\n",
    "hourly_arrest_rate = ri.groupby(ri.index.hour).arrest_made.mean()\n",
    "hourly_arrest_rate.plot(kind = 'line')\n",
    "\n",
    "# Add the xlabel, ylabel, and title\n",
    "\n",
    "plt.xlabel('Hour')\n",
    "plt.ylabel('Arrest Rate')\n",
    "plt.title('Arrest Rate by Time of Day')\n",
    "\n",
    "# Display the plot\n",
    "\n",
    "plt.show()"
   ]
  },
  {
   "cell_type": "code",
   "execution_count": 69,
   "metadata": {},
   "outputs": [
    {
     "data": {
      "image/png": "[encoded data removed]",
      "text/plain": [
       "<Figure size 432x288 with 1 Axes>"
      ]
     },
     "metadata": {
      "needs_background": "light"
     },
     "output_type": "display_data"
    }
   ],
   "source": [
    "# Save the annual rate of warning issued to drivers \n",
    "warning_rate = ri.warning_issued.resample('A').mean()\n",
    "\n",
    "# Create a line plot of 'monthly warning issuance rate'\n",
    "warning_rate.plot(kind ='line')\n",
    "plt.show()"
   ]
  },
  {
   "cell_type": "code",
   "execution_count": 70,
   "metadata": {},
   "outputs": [
    {
     "data": {
      "image/png": "[encoded data removed]",
      "text/plain": [
       "<Figure size 432x288 with 2 Axes>"
      ]
     },
     "metadata": {
      "needs_background": "light"
     },
     "output_type": "display_data"
    }
   ],
   "source": [
    "# Calculate and save the annual search rate\n",
    "annual_search_rate = ri.search_conducted.resample('A').mean()\n",
    "\n",
    "# Concatenate 'annual_drug_rate' and 'annual_search_rate'\n",
    "annual = pd.concat([warning_rate,annual_search_rate], axis='columns')\n",
    "\n",
    "# Create subplots from 'annual'\n",
    "annual.plot(subplots = True)\n",
    "\n",
    "# Display the subplots\n",
    "plt.show()"
   ]
  },
  {
   "cell_type": "code",
   "execution_count": 80,
   "metadata": {},
   "outputs": [
    {
     "data": {
      "image/png": "[encoded data removed]",
      "text/plain": [
       "<Figure size 432x288 with 1 Axes>"
      ]
     },
     "metadata": {
      "needs_background": "light"
     },
     "output_type": "display_data"
    }
   ],
   "source": [
    "# Create a frequency table of districts and violations\n",
    "\n",
    "all_zones = pd.crosstab(ri.zone, ri.reason_for_stop)\n",
    "\n",
    "# Create a bar plot of 'k_zones'\n",
    "all_zones.plot(kind = 'bar', stacked=True)\n",
    "plt.legend(bbox_to_anchor=(1.05, 1))\n",
    "\n",
    "# Display the plot\n",
    "plt.show()"
   ]
  },
  {
   "cell_type": "code",
   "execution_count": 82,
   "metadata": {},
   "outputs": [
    {
     "data": {
      "image/png": "[encoded data removed]",
      "text/plain": [
       "<Figure size 432x288 with 1 Axes>"
      ]
     },
     "metadata": {
      "needs_background": "light"
     },
     "output_type": "display_data"
    }
   ],
   "source": [
    "# Save the resulting Series as 'race_frisk'\n",
    "race_frisk = ri.groupby('subject_race').frisk_performed.mean()\n",
    "\n",
    "# create a horizontal bar plot\n",
    "race_frisk.sort_values().plot(kind = 'barh')\n",
    "\n",
    "# Display the plot\n",
    "plt.show()"
   ]
  },
  {
   "cell_type": "code",
   "execution_count": null,
   "metadata": {},
   "outputs": [],
   "source": []
  }
 ],
 "metadata": {
  "kernelspec": {
   "display_name": "Python 3",
   "language": "python",
   "name": "python3"
  },
  "language_info": {
   "codemirror_mode": {
    "name": "ipython",
    "version": 3
   },
   "file_extension": ".py",
   "mimetype": "text/x-python",
   "name": "python",
   "nbconvert_exporter": "python",
   "pygments_lexer": "ipython3",
   "version": "3.7.4"
  }
 },
 "nbformat": 4,
 "nbformat_minor": 2
}
